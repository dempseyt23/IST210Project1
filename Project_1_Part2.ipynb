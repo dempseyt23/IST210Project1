{
  "nbformat": 4,
  "nbformat_minor": 0,
  "metadata": {
    "colab": {
      "name": "Project_1_Part2.ipynb",
      "provenance": [],
      "include_colab_link": true
    },
    "kernelspec": {
      "name": "python3",
      "display_name": "Python 3"
    }
  },
  "cells": [
    {
      "cell_type": "markdown",
      "metadata": {
        "id": "view-in-github",
        "colab_type": "text"
      },
      "source": [
        "<a href=\"https://colab.research.google.com/github/dempseyt23/IST210Project1/blob/master/Project_1_Part2.ipynb\" target=\"_parent\"><img src=\"https://colab.research.google.com/assets/colab-badge.svg\" alt=\"Open In Colab\"/></a>"
      ]
    },
    {
      "cell_type": "markdown",
      "metadata": {
        "id": "_xxWlk4fkpBc",
        "colab_type": "text"
      },
      "source": [
        "# Project 1 Group Report"
      ]
    },
    {
      "cell_type": "markdown",
      "metadata": {
        "id": "6I6Q-MUokwFr",
        "colab_type": "text"
      },
      "source": [
        "## Part 2 Draft of Project"
      ]
    },
    {
      "cell_type": "markdown",
      "metadata": {
        "id": "mlQZDIZTk_Gb",
        "colab_type": "text"
      },
      "source": [
        "### Football"
      ]
    },
    {
      "cell_type": "markdown",
      "metadata": {
        "id": "yPh15nR3lBTy",
        "colab_type": "text"
      },
      "source": [
        "       Our final project idea is for Penn State football.  This idea would help both the program and customers.  The tables that can be used are Location, Opponents, Stadium Attendance, Merchandise, and Ticket Cost.  The first entity listed, which is Location, will tell whether a game is home or away.  This entity will be dynamic or “real time”.  This table will be for customers because when a fan wants to purchase a ticket one of the first things they need to know is whether a game is home or away.  The Opponents table will tell what team Penn State will be facing, and it will also show if it is a conference game or non-conference game.  The Opponents entity will be a dynamic or “real time” table.  When a customer is considering purchasing a Penn State football ticket they first will need to know if the game is home or away which will be shown in the Location table, but they may also want to see Penn State face a specific team which is also why we include the team and whether if it is a conference or non-conference game.  The Location table and Opponents table will be open for many people to view.  While the Opponents and Location tables are more for the customer; the Stadium Attendance table will be more for the Penn State football program.  The Attendance table will keep a record of the amount of total people in attendance at each game, and will keep track of how many people are in each section.  This will help the program see which games they may want to advertise for or give discounts for in the future if there are games with low attendance.  A constraint for this table will be a total attendance over 150,000 because Beaver Stadium cannot hold that many fans.  Our third entity is Merchandise.  This will also be a table for the program as this will keep track of merchandise purchases made in Beaver Stadium.  This table will also keep track of what was purchased like a hat or t-shirt.  This will help the program because it will allow information to be tracked that can be useful in advertising, releasing coupons, and managing stock.  The Attendance table and the Merchandise table can also be used together to see how many more purchases are made for games with a higher attendance.  This can help the program prevent stocking problems as they will have a better idea of how much of what items they need to stock.  The last table will be Ticket Cost.  An attribute for this table will be the sections of Beaver Stadium.  This way the ticket prices will be tracked for each section.  A constraint for this table would be ridiculous ticket prices like $1,000.  This table will be used with Stadium Attendance by the program.  These two tables will help the program see which section in the stadium is attracting fewer fans, and they will be able to see how fluctuating ticket prices for certain sections affects the section attendance.  These tables will help customers purchase tickets and will give the Penn State football program the data to help bring in more revenue."
      ]
    }
  ]
}