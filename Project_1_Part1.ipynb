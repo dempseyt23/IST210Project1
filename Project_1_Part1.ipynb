{
  "nbformat": 4,
  "nbformat_minor": 0,
  "metadata": {
    "colab": {
      "name": "Project_1_Part1.ipynb",
      "provenance": [],
      "include_colab_link": true
    },
    "kernelspec": {
      "name": "python3",
      "display_name": "Python 3"
    }
  },
  "cells": [
    {
      "cell_type": "markdown",
      "metadata": {
        "id": "view-in-github",
        "colab_type": "text"
      },
      "source": [
        "<a href=\"https://colab.research.google.com/github/dempseyt23/IST210Project1/blob/master/Project_1_Part1.ipynb\" target=\"_parent\"><img src=\"https://colab.research.google.com/assets/colab-badge.svg\" alt=\"Open In Colab\"/></a>"
      ]
    },
    {
      "cell_type": "markdown",
      "metadata": {
        "id": "gcan6kRhwskx",
        "colab_type": "text"
      },
      "source": [
        "# Project 1 Group 1 Report"
      ]
    },
    {
      "cell_type": "markdown",
      "metadata": {
        "id": "5j2Cl3ENw0ow",
        "colab_type": "text"
      },
      "source": [
        "## Idea Discussion "
      ]
    },
    {
      "cell_type": "markdown",
      "metadata": {
        "id": "-7PYytxkw5sY",
        "colab_type": "text"
      },
      "source": [
        "### 1) Football"
      ]
    },
    {
      "cell_type": "markdown",
      "metadata": {
        "id": "bVewxYwSw89v",
        "colab_type": "text"
      },
      "source": [
        "       Our first idea is Penn State football which many people know and love. Using a database for this would be very useful and helpful to not only the people running it but the customers as well. Penn State football attracts a very diverse audience from all over the country. Penn state being one of the biggest alumni associations in the country also helps fuel the fire. What makes this idea unique is how large of a program it is. This does not mean just the football players themselves but everything that goes along with it. We did not come up with this business, and we are borrowing it from The Pennsylvania State University. Some of the tables that can be used are: Opponents, Stadium attendance, Ticket cost, Merchandise, and Location(Home or away games). The dynamic or “real time” table is stadium attendance. This will include whether or not it is a Big Ten game or not. It will also include which team in general it is, along with the teams ranking for the season. The University can use this to get an idea of where and when they should advertise more. They can also use it to see where they can sell more merchandise or increase the cost of tickets. A typical day or interaction with this business begins with finding out what team Penn State is playing and whether it is home or away. After this it is time to buy tickets in varying sections depending on the price and who you are. After purchasing a ticket from the university you can also purchase some merchandise to go into the game with or while at the game. After all of this is done, it is time to just enjoy yourself at the game whether it is home or away. A database would be great for this business because all of this would be organized. The university could use the dynamic data of stadium attendance to determine when to do different things to increase revenue. The entities of this table would be the type of game and the attributes would be number of people in attendance that day.\n",
        "       \n",
        "      Goal: Identify what teams and merchandise are bringing in the most revenue"
      ]
    },
    {
      "cell_type": "markdown",
      "metadata": {
        "id": "-_ZzSulzeEi0",
        "colab_type": "text"
      },
      "source": [
        "![alt text](https://)"
      ]
    },
    {
      "cell_type": "markdown",
      "metadata": {
        "id": "Jogo9hqnxD4H",
        "colab_type": "text"
      },
      "source": [
        "### 2) Creamery"
      ]
    },
    {
      "cell_type": "markdown",
      "metadata": {
        "id": "JS4gapqXxJn4",
        "colab_type": "text"
      },
      "source": [
        "       The Creamery will be one of our tables that will help show what the most popular flavor and other product.  An “other product” includes everything the creamery sells except for ice cream related products.  The other products will be divided into “drinks” and “food”.  This will help show the business what they may need to stock more of or potentially advertise more.  Ice cream related products are excluded from this because ice cream is probably the most sold product at the creamery and for this we made a “Flavors” data.  This will track what ice cream flavor is purchased to show what the most popular flavor is to help management know what flavor they can stock more of and what they might be able to stock less of.  There will be data for “Employees” to see what they purchase as well to help with the data for most purchased flavor and most purchased for other products.  There will also be data that tells what type of customer is making the purchase, whether it is a student or non-student.  This will help the business see who their biggest consumer group is, and if there are any unusual fluctuations in the amount of students or non-students that make purchases at the Creamery.  The “Purchases” data will be the real time data as this will continuously update with each purchase and keep a tally of how much of a product is purchased.  With this data table the Creamery will be able to identify what the most popular ice cream flavor is and if drinks or food are more popular to help with stocking the store appropriately.  The store will also be able to track how many customers are students or non-students to help understand a target audience.\n",
        "       \n",
        "       Goal: Identify the most popular flavor and other product for manufacturing purposes"
      ]
    },
    {
      "cell_type": "markdown",
      "metadata": {
        "id": "WCNmqhZpellC",
        "colab_type": "text"
      },
      "source": [
        "![alt text](https://)"
      ]
    },
    {
      "cell_type": "markdown",
      "metadata": {
        "id": "sZ3f6OcHxNsh",
        "colab_type": "text"
      },
      "source": [
        "### 3) Bookstore"
      ]
    },
    {
      "cell_type": "markdown",
      "metadata": {
        "id": "_bv0X8tSxQ6g",
        "colab_type": "text"
      },
      "source": [
        "       The bookstore is one of our options. Bookstores are widely extended all over the country even the world and serve almost everyone. People could not only get assistance for academic use there but also relax by capturing knowledge from the books. Creating a database would be helpful for people who manage the store and people who purchase there. The essence of the bookstore which is its common use and would meet people’s various desires make it unique. We did not come up with this business, and we are borrowing it from Barnes & Noble, which is the United States' largest national bookstore chain that has been operated more than one hundred years. The tables include the type of books sold, merchandise, the location (places next to school or mall or somewhere else), deals, and purchases. The dynamic table is the purchases. This would tell how many books have sold in certain times such as before or after the school starts and the number of same book sold in different places such as in the mall where people usually entertain at, the bookstore next to the office where people go to relax a bit, and the places close to school areas. Depends on these differences, the manager would use databases to analyze what type of books are the best sellers at the certain times or certain locations which help the manager to decide what kind and how many books he need to import. For example, the number of textbooks sold will definitely get increased right after the first day of school and the mall-nearby bookstores tend to sell more entertaining type of books such as novels and magazines. A database would make this process efficient and help maximise the profit of the bookstore. The entities of this table would be the type of books and the attributes would be the number of books sold.\n",
        "       \n",
        "       Goal: Identify what products should be emphasized at what time during the school year"
      ]
    },
    {
      "cell_type": "markdown",
      "metadata": {
        "id": "uciwANPSenwx",
        "colab_type": "text"
      },
      "source": [
        "![alt text](https://)"
      ]
    }
  ]
}